{
 "cells": [
  {
   "cell_type": "code",
   "execution_count": 2,
   "metadata": {},
   "outputs": [],
   "source": [
    "import scipy.io\n",
    "import numpy as np\n",
    "import matplotlib.pyplot as plt\n",
    "import os\n",
    "import fast"
   ]
  },
  {
   "cell_type": "code",
   "execution_count": 3,
   "metadata": {},
   "outputs": [],
   "source": [
    "# load data\n",
    "data = \"mnist\"\n",
    "\n",
    "file_name = 'mnist_all.mat'\n",
    "relative_path =   '/../data'\n",
    "\n",
    "# get save path \n",
    "save_path = os.getcwd() + relative_path # https://stackoverflow.com/questions/39125532/file-does-not-exist-in-jupyter-notebook\n",
    "full_path = os.path.join(save_path, file_name)\n",
    "assert  os.path.exists(full_path), f'Path {relative_path}/{file_name} does not exist'\n",
    "\n",
    "# read scipy.io\n",
    "mat = scipy.io.loadmat(full_path)"
   ]
  },
  {
   "cell_type": "code",
   "execution_count": 4,
   "metadata": {},
   "outputs": [
    {
     "name": "stdout",
     "output_type": "stream",
     "text": [
      "[[0. 0. 0. ... 0. 0. 0.]\n",
      " [0. 0. 0. ... 0. 0. 0.]\n",
      " [0. 0. 0. ... 0. 0. 0.]\n",
      " ...\n",
      " [0. 0. 0. ... 0. 0. 0.]\n",
      " [0. 0. 0. ... 0. 0. 0.]\n",
      " [0. 0. 0. ... 0. 0. 0.]]\n"
     ]
    }
   ],
   "source": [
    "\n",
    "# ideally get this from data \n",
    "n_class_units=10 \n",
    "n_pixel=784  # per img\n",
    "n_examples=60000\n",
    "\n",
    "# preprocessing \n",
    "inputs=np.zeros((0,n_pixel)) # empty array in correct shape for later (unneccessary??)\n",
    "for i in range(n_class_units): # iterate over mat dictionary \n",
    "    inputs=np.concatenate((inputs, mat['train'+str(i)]), axis=0) # get entries of dict \n",
    "inputs=inputs/255.0 # normalize \n",
    "print(inputs) #shape (60000, 784) "
   ]
  },
  {
   "cell_type": "code",
   "execution_count": 5,
   "metadata": {},
   "outputs": [
    {
     "ename": "TypeError",
     "evalue": "training() takes 2 positional arguments but 3 were given",
     "output_type": "error",
     "traceback": [
      "\u001b[1;31m---------------------------------------------------------------------------\u001b[0m",
      "\u001b[1;31mTypeError\u001b[0m                                 Traceback (most recent call last)",
      "Cell \u001b[1;32mIn[5], line 4\u001b[0m\n\u001b[0;32m      1\u001b[0m \u001b[38;5;66;03m# select algorithm \u001b[39;00m\n\u001b[0;32m      2\u001b[0m algorithm \u001b[38;5;241m=\u001b[39m \u001b[38;5;124m\"\u001b[39m\u001b[38;5;124mfast\u001b[39m\u001b[38;5;124m\"\u001b[39m\n\u001b[1;32m----> 4\u001b[0m \u001b[43mfast\u001b[49m\u001b[38;5;241;43m.\u001b[39;49m\u001b[43mtraining\u001b[49m\u001b[43m(\u001b[49m\u001b[43minputs\u001b[49m\u001b[43m,\u001b[49m\u001b[43m \u001b[49m\u001b[43mn_pixel\u001b[49m\u001b[43m,\u001b[49m\u001b[43m \u001b[49m\u001b[43mn_examples\u001b[49m\u001b[43m)\u001b[49m\n",
      "\u001b[1;31mTypeError\u001b[0m: training() takes 2 positional arguments but 3 were given"
     ]
    }
   ],
   "source": [
    "# select algorithm \n",
    "algorithm = \"fast\"\n",
    "\n",
    "fast.training(inputs, n_hidden=100)"
   ]
  },
  {
   "cell_type": "code",
   "execution_count": null,
   "metadata": {},
   "outputs": [],
   "source": []
  }
 ],
 "metadata": {
  "kernelspec": {
   "display_name": "CompetingHiddenUnits_env",
   "language": "python",
   "name": "python3"
  },
  "language_info": {
   "codemirror_mode": {
    "name": "ipython",
    "version": 3
   },
   "file_extension": ".py",
   "mimetype": "text/x-python",
   "name": "python",
   "nbconvert_exporter": "python",
   "pygments_lexer": "ipython3",
   "version": "3.12.3"
  }
 },
 "nbformat": 4,
 "nbformat_minor": 2
}
