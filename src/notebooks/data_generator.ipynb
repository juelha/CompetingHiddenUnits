{
 "cells": [
  {
   "cell_type": "markdown",
   "metadata": {},
   "source": [
    "## Data Generator\n",
    "\n",
    "Notebook for generating datasets "
   ]
  },
  {
   "cell_type": "code",
   "execution_count": 1,
   "metadata": {},
   "outputs": [],
   "source": [
    "import pandas as pd\n",
    "import numpy as np\n",
    "import os\n",
    "import matplotlib.pyplot as plt\n",
    "import yaml \n",
    "from yaml.loader import UnsafeLoader\n",
    "import os\n"
   ]
  },
  {
   "cell_type": "code",
   "execution_count": 3,
   "metadata": {},
   "outputs": [
    {
     "name": "stdout",
     "output_type": "stream",
     "text": [
      "<bound method NDFrame.head of             A         B  out\n",
      "0    0.374540  0.642032    1\n",
      "1    0.950714  0.084140    1\n",
      "2    0.731994  0.161629    1\n",
      "3    0.598658  0.898554    0\n",
      "4    0.156019  0.606429    1\n",
      "..        ...       ...  ...\n",
      "195  0.349210  0.930757    1\n",
      "196  0.725956  0.858413    0\n",
      "197  0.897110  0.428994    1\n",
      "198  0.887086  0.750871    0\n",
      "199  0.779876  0.754543    0\n",
      "\n",
      "[200 rows x 3 columns]>\n"
     ]
    }
   ],
   "source": [
    "def create_xor(num_rows):\n",
    "    np.random.seed(42)  # Setting seed for reproducibility\n",
    "    data = {\n",
    "        'A': np.random.uniform(0, 1, num_rows),\n",
    "        'B': np.random.uniform(0, 1, num_rows)\n",
    "    }\n",
    "\n",
    "    # Applying the condition to create the 'out' column\n",
    "    data['out'] = np.where(np.round(data['A'],0) != np.round(data['B'],0), 1, 0)\n",
    "  #  data['out'] = np.where((data['zero'] <= 1) & (data['one'] <=1), 0, 1)\n",
    "\n",
    "\n",
    "    # Creating the DataFrame\n",
    "    df = pd.DataFrame(data)\n",
    "\n",
    "    return df\n",
    "\n",
    "df = create_xor(200)\n",
    "print(df.head)\n",
    "\n",
    "file_name = 'xor_df.csv'\n",
    "relative_path =   '/../data'\n"
   ]
  },
  {
   "cell_type": "code",
   "execution_count": 6,
   "metadata": {},
   "outputs": [
    {
     "name": "stdout",
     "output_type": "stream",
     "text": [
      "       0    1    2    3    4    5    6    7    8    9    ...  775  776  777  \\\n",
      "0        0    0    0    0    0    0    0    0    9    8  ...  103   87   56   \n",
      "1        1    0    0    0    0    0    0    0    0    0  ...   34    0    0   \n",
      "2        2    0    0    0    0    0    0   14   53   99  ...    0    0    0   \n",
      "3        2    0    0    0    0    0    0    0    0    0  ...  137  126  140   \n",
      "4        3    0    0    0    0    0    0    0    0    0  ...    0    0    0   \n",
      "...    ...  ...  ...  ...  ...  ...  ...  ...  ...  ...  ...  ...  ...  ...   \n",
      "69995    9    0    0    0    0    0    0    0    0    0  ...    0    0    0   \n",
      "69996    1    0    0    0    0    0    0    0    0    0  ...   73    0    0   \n",
      "69997    8    0    0    0    0    0    0    0    0    0  ...  160  162  163   \n",
      "69998    8    0    0    0    0    0    0    0    0    0  ...    0    0    0   \n",
      "69999    7    0    0    0    0    0    0    0    0    0  ...    0    0    0   \n",
      "\n",
      "       778  779  780  781  782  783  784  \n",
      "0        0    0    0    0    0    0    0  \n",
      "1        0    0    0    0    0    0    0  \n",
      "2        0   63   53   31    0    0    0  \n",
      "3        0  133  224  222   56    0    0  \n",
      "4        0    0    0    0    0    0    0  \n",
      "...    ...  ...  ...  ...  ...  ...  ...  \n",
      "69995    0    0    0    0    0    0    0  \n",
      "69996    0    0    0    0    0    0    0  \n",
      "69997  135   94    0    0    0    0    0  \n",
      "69998    0    0    0    0    0    0    0  \n",
      "69999    0    0    0    0    0    0    0  \n",
      "\n",
      "[70000 rows x 785 columns]\n"
     ]
    }
   ],
   "source": [
    "import pandas as pd\n",
    "import os\n",
    "\n",
    "file_name = 'fashion_mnist.csv'\n",
    "relative_path =   '/../data'\n",
    "\n",
    "# get save path \n",
    "save_path = os.getcwd() +  relative_path # https://stackoverflow.com/questions/39125532/file-does-not-exist-in-jupyter-notebook\n",
    "full_path = os.path.join(save_path, file_name)\n",
    "\n",
    "# read via panda reader\n",
    "df = pd.read_csv(full_path, header=None)\n",
    "\n",
    "# get save path \n",
    "save_path = os.getcwd() +  relative_path # https://stackoverflow.com/questions/39125532/file-does-not-exist-in-jupyter-notebook\n",
    "full_path = os.path.join(save_path, \"fashion_mnist.pkl\")\n",
    "\n",
    "df.to_pickle(full_path)    #to save the dataframe, df to 123.pkl\n",
    "df1 = pd.read_pickle(full_path) #to load 123.pkl back to the dataframe df\n",
    "print(df1)"
   ]
  }
 ],
 "metadata": {
  "kernelspec": {
   "display_name": "CompetingHiddenUnits_env",
   "language": "python",
   "name": "python3"
  },
  "language_info": {
   "codemirror_mode": {
    "name": "ipython",
    "version": 3
   },
   "file_extension": ".py",
   "mimetype": "text/x-python",
   "name": "python",
   "nbconvert_exporter": "python",
   "pygments_lexer": "ipython3",
   "version": "3.12.3"
  }
 },
 "nbformat": 4,
 "nbformat_minor": 2
}
